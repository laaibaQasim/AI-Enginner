{
 "cells": [
  {
   "cell_type": "code",
   "execution_count": 1,
   "metadata": {
    "colab": {
     "base_uri": "https://localhost:8080/"
    },
    "executionInfo": {
     "elapsed": 9325,
     "status": "ok",
     "timestamp": 1752745792341,
     "user": {
      "displayName": "laiba qasim",
      "userId": "05753382907170494240"
     },
     "user_tz": -300
    },
    "id": "KRAEE2_MYTBo",
    "outputId": "e8098ec7-bbed-4118-af5a-5be6687d5f61"
   },
   "outputs": [
    {
     "name": "stdout",
     "output_type": "stream",
     "text": [
      "Requirement already satisfied: numpy in /usr/local/lib/python3.11/dist-packages (2.0.2)\n"
     ]
    }
   ],
   "source": [
    "!pip install numpy"
   ]
  },
  {
   "cell_type": "markdown",
   "metadata": {
    "id": "gowE4XvzzX_Y"
   },
   "source": [
    "# **The Basics**"
   ]
  },
  {
   "cell_type": "code",
   "execution_count": 121,
   "metadata": {
    "colab": {
     "base_uri": "https://localhost:8080/"
    },
    "executionInfo": {
     "elapsed": 12,
     "status": "ok",
     "timestamp": 1752753635484,
     "user": {
      "displayName": "laiba qasim",
      "userId": "05753382907170494240"
     },
     "user_tz": -300
    },
    "id": "ig5QYdIkynWq",
    "outputId": "52f1b4a9-9cdd-40c3-da7b-97fac82821af"
   },
   "outputs": [
    {
     "name": "stdout",
     "output_type": "stream",
     "text": [
      "dim 1 2 2 3\n",
      "size 4 6 9 12\n",
      "shape (4,) (2, 3) (3, 3) (2, 2, 3)\n",
      "data type int16\n",
      "item size 2 8 8 8\n",
      "no of bytes 8 72 96\n"
     ]
    }
   ],
   "source": [
    "import numpy as np\n",
    "\n",
    "a = np.array([1,2,3,4], dtype=\"int16\")\n",
    "b = np.array([[1,2,3],[3,4,5]])\n",
    "c = np.array([[1,2,3],[3,4,5],[6,7,8]])\n",
    "d = np.array([[[1,2,2],[2,3,5]],[[4,5,6],[8,3,9]]])\n",
    "\n",
    "print(\"dim\", a.ndim, b.ndim, c.ndim, d.ndim)\n",
    "print(\"size\", a.size, b.size, c.size, d.size)\n",
    "print(\"shape\", a.shape, b.shape, c.shape, d.shape)\n",
    "print(\"data type\", a.dtype)\n",
    "print(\"item size\", a.itemsize, b.itemsize, c.itemsize, d.itemsize)\n",
    "print(\"no of bytes\", a.nbytes, c.nbytes, d.nbytes)"
   ]
  },
  {
   "cell_type": "code",
   "execution_count": null,
   "metadata": {},
   "outputs": [],
   "source": [
    "b[[1,2],[0,1,2]]"
   ]
  },
  {
   "cell_type": "code",
   "execution_count": null,
   "metadata": {},
   "outputs": [],
   "source": [
    "np.arange(0, 10, 2) # array([0, 2, 4, 6, 8])"
   ]
  },
  {
   "cell_type": "code",
   "execution_count": 33,
   "metadata": {
    "colab": {
     "base_uri": "https://localhost:8080/"
    },
    "executionInfo": {
     "elapsed": 45,
     "status": "ok",
     "timestamp": 1752747438102,
     "user": {
      "displayName": "laiba qasim",
      "userId": "05753382907170494240"
     },
     "user_tz": -300
    },
    "id": "L9juQz3E1IuU",
    "outputId": "8f6825cb-9aa3-4ec5-d1ec-5c0b0a50cf7f"
   },
   "outputs": [
    {
     "data": {
      "text/plain": [
       "array([2, 3, 5])"
      ]
     },
     "execution_count": 33,
     "metadata": {},
     "output_type": "execute_result"
    }
   ],
   "source": [
    "# get a specific row\n",
    "d[0,1,:]"
   ]
  },
  {
   "cell_type": "code",
   "execution_count": 37,
   "metadata": {
    "colab": {
     "base_uri": "https://localhost:8080/"
    },
    "executionInfo": {
     "elapsed": 14,
     "status": "ok",
     "timestamp": 1752747634223,
     "user": {
      "displayName": "laiba qasim",
      "userId": "05753382907170494240"
     },
     "user_tz": -300
    },
    "id": "J2f5tSbr44l5",
    "outputId": "8934d9f8-bbd6-4865-d72e-96975bf17304"
   },
   "outputs": [
    {
     "data": {
      "text/plain": [
       "array([3, 5])"
      ]
     },
     "execution_count": 37,
     "metadata": {},
     "output_type": "execute_result"
    }
   ],
   "source": [
    "# getting a little more fancy\n",
    "d[0,1,1:3:1]"
   ]
  },
  {
   "cell_type": "code",
   "execution_count": 40,
   "metadata": {
    "colab": {
     "base_uri": "https://localhost:8080/"
    },
    "executionInfo": {
     "elapsed": 8,
     "status": "ok",
     "timestamp": 1752747691884,
     "user": {
      "displayName": "laiba qasim",
      "userId": "05753382907170494240"
     },
     "user_tz": -300
    },
    "id": "-jfk8hUh5sLV",
    "outputId": "d3029eab-e70b-4032-883c-30789833e97a"
   },
   "outputs": [
    {
     "data": {
      "text/plain": [
       "array([[[1, 2, 2],\n",
       "        [2, 1, 2]],\n",
       "\n",
       "       [[4, 5, 6],\n",
       "        [8, 3, 9]]])"
      ]
     },
     "execution_count": 40,
     "metadata": {},
     "output_type": "execute_result"
    }
   ],
   "source": [
    "# assigning values\n",
    "d[0,1,1:3:1]=[1,2]\n",
    "d"
   ]
  },
  {
   "cell_type": "code",
   "execution_count": 122,
   "metadata": {
    "colab": {
     "base_uri": "https://localhost:8080/"
    },
    "executionInfo": {
     "elapsed": 6,
     "status": "ok",
     "timestamp": 1752753640412,
     "user": {
      "displayName": "laiba qasim",
      "userId": "05753382907170494240"
     },
     "user_tz": -300
    },
    "id": "8sVxNPzjQTfo",
    "outputId": "dc247c9e-d669-4f92-ce12-5282eaec790e"
   },
   "outputs": [
    {
     "data": {
      "text/plain": [
       "array([2, 3, 1], dtype=int16)"
      ]
     },
     "execution_count": 122,
     "metadata": {},
     "output_type": "execute_result"
    }
   ],
   "source": [
    "a[[1,2,0]]"
   ]
  },
  {
   "cell_type": "markdown",
   "metadata": {
    "id": "t3cqlaMU9Ebz"
   },
   "source": [
    "### Initializing different types of arrays"
   ]
  },
  {
   "cell_type": "code",
   "execution_count": 43,
   "metadata": {
    "colab": {
     "base_uri": "https://localhost:8080/"
    },
    "executionInfo": {
     "elapsed": 13,
     "status": "ok",
     "timestamp": 1752748590817,
     "user": {
      "displayName": "laiba qasim",
      "userId": "05753382907170494240"
     },
     "user_tz": -300
    },
    "id": "gQoXgor86CoR",
    "outputId": "f847ad8f-8bf2-4ddd-fc44-453d53a72709"
   },
   "outputs": [
    {
     "data": {
      "text/plain": [
       "array([[[0., 0., 0.],\n",
       "        [0., 0., 0.],\n",
       "        [0., 0., 0.]],\n",
       "\n",
       "       [[0., 0., 0.],\n",
       "        [0., 0., 0.],\n",
       "        [0., 0., 0.]],\n",
       "\n",
       "       [[0., 0., 0.],\n",
       "        [0., 0., 0.],\n",
       "        [0., 0., 0.]]])"
      ]
     },
     "execution_count": 43,
     "metadata": {},
     "output_type": "execute_result"
    }
   ],
   "source": [
    "np.zeros((3,3,3))"
   ]
  },
  {
   "cell_type": "code",
   "execution_count": 45,
   "metadata": {
    "colab": {
     "base_uri": "https://localhost:8080/"
    },
    "executionInfo": {
     "elapsed": 10,
     "status": "ok",
     "timestamp": 1752748613981,
     "user": {
      "displayName": "laiba qasim",
      "userId": "05753382907170494240"
     },
     "user_tz": -300
    },
    "id": "2h56eYWQ9RWe",
    "outputId": "bfc5055c-3c5a-4b0d-8c03-9fe38a338c97"
   },
   "outputs": [
    {
     "data": {
      "text/plain": [
       "array([[1, 1]], dtype=int32)"
      ]
     },
     "execution_count": 45,
     "metadata": {},
     "output_type": "execute_result"
    }
   ],
   "source": [
    "np.ones((1,2), dtype=\"int32\")"
   ]
  },
  {
   "cell_type": "code",
   "execution_count": 48,
   "metadata": {
    "colab": {
     "base_uri": "https://localhost:8080/"
    },
    "executionInfo": {
     "elapsed": 63,
     "status": "ok",
     "timestamp": 1752748690543,
     "user": {
      "displayName": "laiba qasim",
      "userId": "05753382907170494240"
     },
     "user_tz": -300
    },
    "id": "DaAlyNqb9TY2",
    "outputId": "c6c4182c-bb48-4d3a-e3da-3650cea53a70"
   },
   "outputs": [
    {
     "data": {
      "text/plain": [
       "array([[[4, 4],\n",
       "        [4, 4],\n",
       "        [4, 4]],\n",
       "\n",
       "       [[4, 4],\n",
       "        [4, 4],\n",
       "        [4, 4]],\n",
       "\n",
       "       [[4, 4],\n",
       "        [4, 4],\n",
       "        [4, 4]]])"
      ]
     },
     "execution_count": 48,
     "metadata": {},
     "output_type": "execute_result"
    }
   ],
   "source": [
    "np.full((3,3,2), 4)"
   ]
  },
  {
   "cell_type": "code",
   "execution_count": 51,
   "metadata": {
    "colab": {
     "base_uri": "https://localhost:8080/"
    },
    "executionInfo": {
     "elapsed": 10,
     "status": "ok",
     "timestamp": 1752748732564,
     "user": {
      "displayName": "laiba qasim",
      "userId": "05753382907170494240"
     },
     "user_tz": -300
    },
    "id": "K1vGKPOL9qhj",
    "outputId": "c77d3715-bd87-447e-f324-a2a889379349"
   },
   "outputs": [
    {
     "data": {
      "text/plain": [
       "array([[[4, 4, 4],\n",
       "        [4, 4, 4]],\n",
       "\n",
       "       [[4, 4, 4],\n",
       "        [4, 4, 4]]])"
      ]
     },
     "execution_count": 51,
     "metadata": {},
     "output_type": "execute_result"
    }
   ],
   "source": [
    "np.full_like(d, 4)"
   ]
  },
  {
   "cell_type": "code",
   "execution_count": 52,
   "metadata": {
    "colab": {
     "base_uri": "https://localhost:8080/"
    },
    "executionInfo": {
     "elapsed": 228,
     "status": "ok",
     "timestamp": 1752748783205,
     "user": {
      "displayName": "laiba qasim",
      "userId": "05753382907170494240"
     },
     "user_tz": -300
    },
    "id": "QAsT64-p94mm",
    "outputId": "74a4958f-3cb2-4fc4-c8e1-5e79e6167fe7"
   },
   "outputs": [
    {
     "data": {
      "text/plain": [
       "array([[[0.67615132, 0.03709747, 0.23362874],\n",
       "        [0.38842971, 0.21979141, 0.5284847 ]],\n",
       "\n",
       "       [[0.27074516, 0.15324233, 0.99201446],\n",
       "        [0.31895412, 0.30153994, 0.8357032 ]],\n",
       "\n",
       "       [[0.65043026, 0.67205609, 0.42200065],\n",
       "        [0.64063173, 0.10425207, 0.0707442 ]],\n",
       "\n",
       "       [[0.864509  , 0.41749998, 0.803697  ],\n",
       "        [0.15769532, 0.38696488, 0.69031814]]])"
      ]
     },
     "execution_count": 52,
     "metadata": {},
     "output_type": "execute_result"
    }
   ],
   "source": [
    "# random decimal numbers - make sure to not add paranthesis here\n",
    "np.random.rand(4,2,3)"
   ]
  },
  {
   "cell_type": "code",
   "execution_count": 53,
   "metadata": {
    "colab": {
     "base_uri": "https://localhost:8080/"
    },
    "executionInfo": {
     "elapsed": 229,
     "status": "ok",
     "timestamp": 1752748836089,
     "user": {
      "displayName": "laiba qasim",
      "userId": "05753382907170494240"
     },
     "user_tz": -300
    },
    "id": "udaJhcs_-IlP",
    "outputId": "03681822-3b7f-4254-806c-8dff033c45f4"
   },
   "outputs": [
    {
     "data": {
      "text/plain": [
       "array([[[0.20619233, 0.00649217, 0.10731049],\n",
       "        [0.86590146, 0.39467265, 0.82023441]],\n",
       "\n",
       "       [[0.26163522, 0.76843844, 0.75358765],\n",
       "        [0.77815569, 0.55163044, 0.10516891]]])"
      ]
     },
     "execution_count": 53,
     "metadata": {},
     "output_type": "execute_result"
    }
   ],
   "source": [
    "np.random.random_sample(d.shape)"
   ]
  },
  {
   "cell_type": "code",
   "execution_count": 55,
   "metadata": {
    "colab": {
     "base_uri": "https://localhost:8080/"
    },
    "executionInfo": {
     "elapsed": 14,
     "status": "ok",
     "timestamp": 1752748903955,
     "user": {
      "displayName": "laiba qasim",
      "userId": "05753382907170494240"
     },
     "user_tz": -300
    },
    "id": "LvI_4H6L-Vuq",
    "outputId": "9999e377-3386-4bc4-effb-c77eaeaf4872"
   },
   "outputs": [
    {
     "data": {
      "text/plain": [
       "array([[6, 7, 5],\n",
       "       [5, 7, 6],\n",
       "       [8, 5, 4]])"
      ]
     },
     "execution_count": 55,
     "metadata": {},
     "output_type": "execute_result"
    }
   ],
   "source": [
    "np.random.randint(4,9,size=(3,3))"
   ]
  },
  {
   "cell_type": "code",
   "execution_count": 56,
   "metadata": {
    "colab": {
     "base_uri": "https://localhost:8080/"
    },
    "executionInfo": {
     "elapsed": 44,
     "status": "ok",
     "timestamp": 1752748931314,
     "user": {
      "displayName": "laiba qasim",
      "userId": "05753382907170494240"
     },
     "user_tz": -300
    },
    "id": "rmMPxAwE-gSc",
    "outputId": "21ebabad-6572-485a-c14f-9f0d6412405f"
   },
   "outputs": [
    {
     "data": {
      "text/plain": [
       "array([[1., 0., 0., 0., 0.],\n",
       "       [0., 1., 0., 0., 0.],\n",
       "       [0., 0., 1., 0., 0.],\n",
       "       [0., 0., 0., 1., 0.],\n",
       "       [0., 0., 0., 0., 1.]])"
      ]
     },
     "execution_count": 56,
     "metadata": {},
     "output_type": "execute_result"
    }
   ],
   "source": [
    "np.identity(5) # identity matrix is by nature square"
   ]
  },
  {
   "cell_type": "code",
   "execution_count": 69,
   "metadata": {
    "colab": {
     "base_uri": "https://localhost:8080/"
    },
    "executionInfo": {
     "elapsed": 6,
     "status": "ok",
     "timestamp": 1752749217675,
     "user": {
      "displayName": "laiba qasim",
      "userId": "05753382907170494240"
     },
     "user_tz": -300
    },
    "id": "PfNK6rSe-sv1",
    "outputId": "ec3a5710-35a0-42a9-da09-374559e7aa85"
   },
   "outputs": [
    {
     "name": "stdout",
     "output_type": "stream",
     "text": [
      "[[[1 1 1 2 2 2 2 2 2]\n",
      "  [2 2 2 3 3 3 5 5 5]]\n",
      "\n",
      " [[4 4 4 5 5 5 6 6 6]\n",
      "  [8 8 8 3 3 3 9 9 9]]]\n"
     ]
    }
   ],
   "source": [
    "# repeat array\n",
    "d = np.array([[[1,2,2],[2,3,5]],[[4,5,6],[8,3,9]]])\n",
    "r1 = np.repeat(d, 3, axis=2) # play around with axis\n",
    "print(r1)"
   ]
  },
  {
   "cell_type": "markdown",
   "metadata": {
    "id": "EBzTkSk6DAlK"
   },
   "source": [
    "### **QUIZ**"
   ]
  },
  {
   "cell_type": "code",
   "execution_count": 83,
   "metadata": {
    "colab": {
     "base_uri": "https://localhost:8080/"
    },
    "executionInfo": {
     "elapsed": 10,
     "status": "ok",
     "timestamp": 1752749740443,
     "user": {
      "displayName": "laiba qasim",
      "userId": "05753382907170494240"
     },
     "user_tz": -300
    },
    "id": "uDR5Y87-AGSP",
    "outputId": "e56a8d24-130f-4c59-85ab-a2e1f8868c57"
   },
   "outputs": [
    {
     "data": {
      "text/plain": [
       "array([[1, 1, 1, 1, 1],\n",
       "       [1, 0, 0, 0, 1],\n",
       "       [1, 0, 9, 0, 1],\n",
       "       [1, 0, 0, 0, 1],\n",
       "       [1, 1, 1, 1, 1]])"
      ]
     },
     "execution_count": 83,
     "metadata": {},
     "output_type": "execute_result"
    }
   ],
   "source": [
    "# quiz\n",
    "# 1 1 1 1 1\n",
    "# 1 0 0 0 1\n",
    "# 1 0 9 0 1\n",
    "# 1 0 0 0 1\n",
    "# 1 1 1 1 1\n",
    "arr = np.full((5,5),9)\n",
    "\n",
    "arr[:,0:5:4] = 1\n",
    "arr[0:5:4,:] = 1\n",
    "\n",
    "arr[1:4,1:4:2] = 0\n",
    "arr[1:4:2,2] = 0\n",
    "\n",
    "arr"
   ]
  },
  {
   "cell_type": "code",
   "execution_count": 85,
   "metadata": {
    "colab": {
     "base_uri": "https://localhost:8080/"
    },
    "executionInfo": {
     "elapsed": 14,
     "status": "ok",
     "timestamp": 1752749938643,
     "user": {
      "displayName": "laiba qasim",
      "userId": "05753382907170494240"
     },
     "user_tz": -300
    },
    "id": "cw0cggAZCCNf",
    "outputId": "b8ebcfa9-dee6-476b-f20c-69fe6dd64a19"
   },
   "outputs": [
    {
     "data": {
      "text/plain": [
       "array([[1., 1., 1., 1., 1.],\n",
       "       [1., 0., 0., 0., 1.],\n",
       "       [1., 0., 9., 0., 1.],\n",
       "       [1., 0., 0., 0., 1.],\n",
       "       [1., 1., 1., 1., 1.]])"
      ]
     },
     "execution_count": 85,
     "metadata": {},
     "output_type": "execute_result"
    }
   ],
   "source": [
    "# more efficient solution\n",
    "arr = np.ones((5,5))\n",
    "zeros = np.zeros((3,3))\n",
    "zeros[1,1] = 9\n",
    "arr[1:-1,1:-1] = zeros\n",
    "arr"
   ]
  },
  {
   "cell_type": "markdown",
   "metadata": {
    "id": "ekSdB5rOCw2Y"
   },
   "source": [
    "### **Mathematics**"
   ]
  },
  {
   "cell_type": "code",
   "execution_count": 99,
   "metadata": {
    "colab": {
     "base_uri": "https://localhost:8080/"
    },
    "executionInfo": {
     "elapsed": 22,
     "status": "ok",
     "timestamp": 1752750857044,
     "user": {
      "displayName": "laiba qasim",
      "userId": "05753382907170494240"
     },
     "user_tz": -300
    },
    "id": "RhGT1RfvF4QK",
    "outputId": "a0088c27-87f8-4c57-c67f-bc1b0651b226"
   },
   "outputs": [
    {
     "data": {
      "text/plain": [
       "array([1, 4, 9], dtype=int16)"
      ]
     },
     "execution_count": 99,
     "metadata": {},
     "output_type": "execute_result"
    }
   ],
   "source": [
    "a**2"
   ]
  },
  {
   "cell_type": "code",
   "execution_count": 95,
   "metadata": {
    "colab": {
     "base_uri": "https://localhost:8080/"
    },
    "executionInfo": {
     "elapsed": 19,
     "status": "ok",
     "timestamp": 1752750729341,
     "user": {
      "displayName": "laiba qasim",
      "userId": "05753382907170494240"
     },
     "user_tz": -300
    },
    "id": "vpU1OYEZD_WK",
    "outputId": "6bf6ff6d-888e-4777-d24a-40ce09decbe9"
   },
   "outputs": [
    {
     "name": "stdout",
     "output_type": "stream",
     "text": [
      "[[1 2 3]\n",
      " [3 4 5]\n",
      " [6 7 8]]\n"
     ]
    },
    {
     "data": {
      "text/plain": [
       "(3, 3)"
      ]
     },
     "execution_count": 95,
     "metadata": {},
     "output_type": "execute_result"
    }
   ],
   "source": [
    "print(c)\n",
    "c.shape"
   ]
  },
  {
   "cell_type": "code",
   "execution_count": 96,
   "metadata": {
    "colab": {
     "base_uri": "https://localhost:8080/"
    },
    "executionInfo": {
     "elapsed": 12,
     "status": "ok",
     "timestamp": 1752750731063,
     "user": {
      "displayName": "laiba qasim",
      "userId": "05753382907170494240"
     },
     "user_tz": -300
    },
    "id": "UnpWLSaKD-w4",
    "outputId": "931b4315-3753-4a60-e8f3-32cbdc645f46"
   },
   "outputs": [
    {
     "name": "stdout",
     "output_type": "stream",
     "text": [
      "[[1 2 3]\n",
      " [3 4 5]]\n"
     ]
    },
    {
     "data": {
      "text/plain": [
       "(2, 3)"
      ]
     },
     "execution_count": 96,
     "metadata": {},
     "output_type": "execute_result"
    }
   ],
   "source": [
    "print(b)\n",
    "b.shape"
   ]
  },
  {
   "cell_type": "code",
   "execution_count": 102,
   "metadata": {
    "executionInfo": {
     "elapsed": 4,
     "status": "ok",
     "timestamp": 1752751046068,
     "user": {
      "displayName": "laiba qasim",
      "userId": "05753382907170494240"
     },
     "user_tz": -300
    },
    "id": "OVN2oe_BCwQW"
   },
   "outputs": [],
   "source": [
    "# b+c differet shape, failed to broadcast"
   ]
  },
  {
   "cell_type": "code",
   "execution_count": 101,
   "metadata": {
    "colab": {
     "base_uri": "https://localhost:8080/"
    },
    "executionInfo": {
     "elapsed": 14,
     "status": "ok",
     "timestamp": 1752750909209,
     "user": {
      "displayName": "laiba qasim",
      "userId": "05753382907170494240"
     },
     "user_tz": -300
    },
    "id": "Q6y4kUU0GE-w",
    "outputId": "6a3ea97b-22a0-4402-f7a8-16599b0333a9"
   },
   "outputs": [
    {
     "data": {
      "text/plain": [
       "array([ 0.5403023, -0.4161468, -0.9899925], dtype=float32)"
      ]
     },
     "execution_count": 101,
     "metadata": {},
     "output_type": "execute_result"
    }
   ],
   "source": [
    "np.cos(a)"
   ]
  },
  {
   "cell_type": "markdown",
   "metadata": {
    "id": "5QrSrC__GG6r"
   },
   "source": [
    "### **Linear Algebra**"
   ]
  },
  {
   "cell_type": "code",
   "execution_count": 103,
   "metadata": {
    "colab": {
     "base_uri": "https://localhost:8080/"
    },
    "executionInfo": {
     "elapsed": 7,
     "status": "ok",
     "timestamp": 1752751058097,
     "user": {
      "displayName": "laiba qasim",
      "userId": "05753382907170494240"
     },
     "user_tz": -300
    },
    "id": "_kzRrYWzGKWv",
    "outputId": "fbefc230-d3e7-4006-c763-48d8b9d62f03"
   },
   "outputs": [
    {
     "data": {
      "text/plain": [
       "array([[18, 18],\n",
       "       [18, 18]])"
      ]
     },
     "execution_count": 103,
     "metadata": {},
     "output_type": "execute_result"
    }
   ],
   "source": [
    "a = np.full((2,3), 2)\n",
    "b = np.full((3,2), 3)\n",
    "# a*b gives error\n",
    "np.matmul(a,b)"
   ]
  },
  {
   "cell_type": "code",
   "execution_count": 104,
   "metadata": {
    "colab": {
     "base_uri": "https://localhost:8080/"
    },
    "executionInfo": {
     "elapsed": 17,
     "status": "ok",
     "timestamp": 1752751515632,
     "user": {
      "displayName": "laiba qasim",
      "userId": "05753382907170494240"
     },
     "user_tz": -300
    },
    "id": "cJDRSBUaISaW",
    "outputId": "21f84b55-1ac5-4f39-841c-8a7e6b2cd7d5"
   },
   "outputs": [
    {
     "data": {
      "text/plain": [
       "np.float64(1.0)"
      ]
     },
     "execution_count": 104,
     "metadata": {},
     "output_type": "execute_result"
    }
   ],
   "source": [
    "# find the determinant\n",
    "c = np.identity(3)\n",
    "np.linalg.det(c)"
   ]
  },
  {
   "cell_type": "markdown",
   "metadata": {
    "id": "ZtsgnEgBIneC"
   },
   "source": [
    "### **Statistics**"
   ]
  },
  {
   "cell_type": "markdown",
   "metadata": {
    "id": "8m9Ou6elNdMw"
   },
   "source": [
    "#### **What Does axis=0 Mean?**\n",
    "It means:\n",
    "Collapse (reduce) across the first axis (axis 0), i.e., across the blocks, and keep the result in shape of the remaining axes (2, 3).\n",
    "\n",
    "So you’re comparing elements at the same positions across the 2 blocks and taking the minimum.\n",
    "\n",
    "**Visually**:\n",
    "```\n",
    "d[0] = [[1, 2, 3],\n",
    "        [4, 5, 6]]\n",
    "\n",
    "d[1] = [[0, 3, 2],\n",
    "        [7, 4, 8]]\n",
    "```\n",
    "Now compare element-by-element across axis 0:\n",
    "\n",
    "```\n",
    "min(d[0][0][0], d[1][0][0]) = min(1, 0) = 0\n",
    "min(d[0][0][1], d[1][0][1]) = min(2, 3) = 2\n",
    "min(d[0][0][2], d[1][0][2]) = min(3, 2) = 2\n",
    "```\n",
    "So: np.min(d, axis=0) =\n",
    "[[0, 2, 2],\n",
    " [4, 4, 6]]  # shape (2, 3)"
   ]
  },
  {
   "cell_type": "code",
   "execution_count": 108,
   "metadata": {
    "colab": {
     "base_uri": "https://localhost:8080/"
    },
    "executionInfo": {
     "elapsed": 11,
     "status": "ok",
     "timestamp": 1752752276358,
     "user": {
      "displayName": "laiba qasim",
      "userId": "05753382907170494240"
     },
     "user_tz": -300
    },
    "id": "hB9BLfi1IrEx",
    "outputId": "2e399171-b516-4431-a254-64c0b79fc796"
   },
   "outputs": [
    {
     "data": {
      "text/plain": [
       "array([[[1, 2, 2],\n",
       "        [2, 3, 5]],\n",
       "\n",
       "       [[4, 5, 6],\n",
       "        [8, 3, 9]]])"
      ]
     },
     "execution_count": 108,
     "metadata": {},
     "output_type": "execute_result"
    }
   ],
   "source": [
    "d"
   ]
  },
  {
   "cell_type": "code",
   "execution_count": 110,
   "metadata": {
    "colab": {
     "base_uri": "https://localhost:8080/"
    },
    "executionInfo": {
     "elapsed": 10,
     "status": "ok",
     "timestamp": 1752752305598,
     "user": {
      "displayName": "laiba qasim",
      "userId": "05753382907170494240"
     },
     "user_tz": -300
    },
    "id": "uE6pWYOcI45J",
    "outputId": "3a27ea76-d31b-4c4f-8413-0fd0fa4e4f49"
   },
   "outputs": [
    {
     "data": {
      "text/plain": [
       "array([[1, 2, 2],\n",
       "       [4, 3, 6]])"
      ]
     },
     "execution_count": 110,
     "metadata": {},
     "output_type": "execute_result"
    }
   ],
   "source": [
    "np.min(d, axis=1)"
   ]
  },
  {
   "cell_type": "code",
   "execution_count": 111,
   "metadata": {
    "colab": {
     "base_uri": "https://localhost:8080/"
    },
    "executionInfo": {
     "elapsed": 46,
     "status": "ok",
     "timestamp": 1752752987228,
     "user": {
      "displayName": "laiba qasim",
      "userId": "05753382907170494240"
     },
     "user_tz": -300
    },
    "id": "Av3dMyMNN53O",
    "outputId": "262f288b-aaef-4feb-f1da-a2268ea92f13"
   },
   "outputs": [
    {
     "data": {
      "text/plain": [
       "array([[1, 2],\n",
       "       [4, 3]])"
      ]
     },
     "execution_count": 111,
     "metadata": {},
     "output_type": "execute_result"
    }
   ],
   "source": [
    "np.min(d, axis=2)"
   ]
  },
  {
   "cell_type": "code",
   "execution_count": 114,
   "metadata": {
    "colab": {
     "base_uri": "https://localhost:8080/"
    },
    "executionInfo": {
     "elapsed": 18,
     "status": "ok",
     "timestamp": 1752753159210,
     "user": {
      "displayName": "laiba qasim",
      "userId": "05753382907170494240"
     },
     "user_tz": -300
    },
    "id": "4en3ngX1OZPS",
    "outputId": "dcd889c6-670d-4923-fd49-b117b39c2044"
   },
   "outputs": [
    {
     "data": {
      "text/plain": [
       "array([[[1, 2],\n",
       "        [2, 2]],\n",
       "\n",
       "       [[3, 5],\n",
       "        [4, 5]],\n",
       "\n",
       "       [[6, 8],\n",
       "        [3, 9]]])"
      ]
     },
     "execution_count": 114,
     "metadata": {},
     "output_type": "execute_result"
    }
   ],
   "source": [
    "# rearrange\n",
    "before = d\n",
    "after = d.reshape(3,2,2) # will work as long as no of elements are same\n",
    "after"
   ]
  },
  {
   "cell_type": "code",
   "execution_count": 117,
   "metadata": {
    "colab": {
     "base_uri": "https://localhost:8080/"
    },
    "executionInfo": {
     "elapsed": 17,
     "status": "ok",
     "timestamp": 1752753307573,
     "user": {
      "displayName": "laiba qasim",
      "userId": "05753382907170494240"
     },
     "user_tz": -300
    },
    "id": "P01WnG8XO7ph",
    "outputId": "91f2f6c2-7690-4f25-82b2-f494d8be8429"
   },
   "outputs": [
    {
     "data": {
      "text/plain": [
       "array([1, 2, 3, 5, 6, 7])"
      ]
     },
     "execution_count": 117,
     "metadata": {},
     "output_type": "execute_result"
    }
   ],
   "source": [
    "# stack\n",
    "v1 = [1,2,3]\n",
    "v2= [5,6,7]\n",
    "np.vstack((v1,v2))\n",
    "np.hstack((v1,v2))"
   ]
  },
  {
   "cell_type": "code",
   "execution_count": null,
   "metadata": {},
   "outputs": [],
   "source": [
    "# split\n",
    "a = np.array([[1, 2, 3], [4, 5, 6]])\n",
    "np.split(a, 3, axis=1)    # Split into 3 parts column-wise\n",
    "np.hsplit(a, 3)           # Same as above\n",
    "np.vsplit(a, 2)           # Row-wise split\n",
    "# Output\n",
    "# [array([[1, 2, 3]]), array([[4, 5, 6]])]"
   ]
  },
  {
   "cell_type": "markdown",
   "metadata": {
    "id": "Xlj2bSpePen_"
   },
   "source": [
    "### **File Handling**"
   ]
  },
  {
   "cell_type": "code",
   "execution_count": 127,
   "metadata": {
    "colab": {
     "base_uri": "https://localhost:8080/"
    },
    "executionInfo": {
     "elapsed": 57,
     "status": "ok",
     "timestamp": 1752754143243,
     "user": {
      "displayName": "laiba qasim",
      "userId": "05753382907170494240"
     },
     "user_tz": -300
    },
    "id": "qP5qO7nhPd52",
    "outputId": "417cd398-bd7a-482d-cd5e-54c7aa481ce8"
   },
   "outputs": [
    {
     "data": {
      "text/plain": [
       "array([[         nan,          nan,          nan, ...,          nan,\n",
       "                 nan,          nan],\n",
       "       [-1.22050e+02,  3.73700e+01,  2.70000e+01, ...,  6.06000e+02,\n",
       "         6.60850e+00,  3.44700e+05],\n",
       "       [-1.18300e+02,  3.42600e+01,  4.30000e+01, ...,  2.77000e+02,\n",
       "         3.59900e+00,  1.76500e+05],\n",
       "       ...,\n",
       "       [-1.19700e+02,  3.63000e+01,  1.00000e+01, ...,  2.20000e+02,\n",
       "         2.28950e+00,  6.20000e+04],\n",
       "       [-1.17120e+02,  3.41000e+01,  4.00000e+01, ...,  1.40000e+01,\n",
       "         3.27080e+00,  1.62500e+05],\n",
       "       [-1.19630e+02,  3.44200e+01,  4.20000e+01, ...,  2.60000e+02,\n",
       "         8.56080e+00,  5.00001e+05]])"
      ]
     },
     "execution_count": 127,
     "metadata": {},
     "output_type": "execute_result"
    }
   ],
   "source": [
    "# read data\n",
    "filedata = np.genfromtxt(\"sample_data/california_housing_test.csv\", delimiter=',')\n",
    "filedata"
   ]
  },
  {
   "cell_type": "code",
   "execution_count": 128,
   "metadata": {
    "colab": {
     "base_uri": "https://localhost:8080/"
    },
    "executionInfo": {
     "elapsed": 22,
     "status": "ok",
     "timestamp": 1752754149629,
     "user": {
      "displayName": "laiba qasim",
      "userId": "05753382907170494240"
     },
     "user_tz": -300
    },
    "id": "pgO143J4Pwyh",
    "outputId": "b579a610-9571-4012-eaa4-ad68829284bf"
   },
   "outputs": [
    {
     "data": {
      "text/plain": [
       "array([[False, False, False, ..., False, False, False],\n",
       "       [False, False, False, ...,  True, False,  True],\n",
       "       [False, False, False, ...,  True, False,  True],\n",
       "       ...,\n",
       "       [False, False, False, ...,  True, False,  True],\n",
       "       [False, False, False, ..., False, False,  True],\n",
       "       [False, False, False, ...,  True, False,  True]])"
      ]
     },
     "execution_count": 128,
     "metadata": {},
     "output_type": "execute_result"
    }
   ],
   "source": [
    "filedata > 50"
   ]
  },
  {
   "cell_type": "code",
   "execution_count": 129,
   "metadata": {
    "colab": {
     "base_uri": "https://localhost:8080/"
    },
    "executionInfo": {
     "elapsed": 12,
     "status": "ok",
     "timestamp": 1752754158178,
     "user": {
      "displayName": "laiba qasim",
      "userId": "05753382907170494240"
     },
     "user_tz": -300
    },
    "id": "qoUqbIVlQmP3",
    "outputId": "ecc1f8b0-4da3-4758-fbe4-f5d6b833cfbb"
   },
   "outputs": [
    {
     "data": {
      "text/plain": [
       "array([3.88500e+03, 6.61000e+02, 1.53700e+03, ..., 7.53000e+02,\n",
       "       2.60000e+02, 5.00001e+05])"
      ]
     },
     "execution_count": 129,
     "metadata": {},
     "output_type": "execute_result"
    }
   ],
   "source": [
    "filedata[filedata > 50]"
   ]
  }
 ],
 "metadata": {
  "colab": {
   "authorship_tag": "ABX9TyN9+/lmTL4uiYyFI9udgWZm",
   "mount_file_id": "1rUwT7Dk8ptLZsvamEfHFqJAkUySR3jP3",
   "provenance": []
  },
  "kernelspec": {
   "display_name": "Python 3",
   "name": "python3"
  },
  "language_info": {
   "name": "python"
  }
 },
 "nbformat": 4,
 "nbformat_minor": 0
}
